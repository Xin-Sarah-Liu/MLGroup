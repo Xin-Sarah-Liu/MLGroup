{
 "cells": [
  {
   "cell_type": "code",
   "execution_count": 1,
   "metadata": {},
   "outputs": [
    {
     "data": {
      "image/png": "[encoded data removed]",
      "text/plain": [
       "<matplotlib.figure.Figure at 0x104968c18>"
      ]
     },
     "metadata": {},
     "output_type": "display_data"
    }
   ],
   "source": [
    "#this is a test run\n",
    "from sklearn.cluster import KMeans\n",
    "import numpy as np\n",
    "import matplotlib.pyplot as plt\n",
    "%matplotlib inline\n",
    "import pandas as pd\n",
    "X = np.array([[1, 2], [1, 4], [1, 0],[4, 2], [4, 4], [4, 0]])\n",
    "X1=np.random.randn(10)+5\n",
    "Y1=np.random.randn(10)+8\n",
    "X2=np.random.randn(10)+12\n",
    "Y2=np.random.randn(10)+16\n",
    "Xnew=list(zip(np.concatenate([X1,X2]),np.concatenate([Y1,Y2])))\n",
    "plt.scatter(X1, Y1)\n",
    "plt.scatter(X2, Y2,marker=\"P\")\n",
    "\n",
    "kmeans = KMeans(n_clusters=2, random_state=0).fit(Xnew)\n",
    "\n",
    "kmeans.predict([[0, 0], [4, 4]])\n",
    "plt.scatter([0,4],[5,2],c=\"red\")\n",
    "plt.xlabel(\"hengzhou\")\n",
    "plt.ylabel(\"zongzhou\")\n",
    "\n",
    "plt.show()"
   ]
  },
  {
   "cell_type": "code",
   "execution_count": null,
   "metadata": {
    "collapsed": true
   },
   "outputs": [],
   "source": []
  }
 ],
 "metadata": {
  "kernelspec": {
   "display_name": "Python 3",
   "language": "python",
   "name": "python3"
  },
  "language_info": {
   "codemirror_mode": {
    "name": "ipython",
    "version": 3
   },
   "file_extension": ".py",
   "mimetype": "text/x-python",
   "name": "python",
   "nbconvert_exporter": "python",
   "pygments_lexer": "ipython3",
   "version": "3.5.2"
  }
 },
 "nbformat": 4,
 "nbformat_minor": 2
}
